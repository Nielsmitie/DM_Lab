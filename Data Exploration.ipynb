{
 "cells": [
  {
   "cell_type": "markdown",
   "metadata": {},
   "source": [
    "# Agnostic Feature Selection\n",
    "The goal of this project is to replicate and extend the results obtained by the [Agnostic Feature Selection](https://www.ecmlpkdd2019.org/downloads/paper/744.pdf) paper."
   ]
  },
  {
   "cell_type": "code",
   "execution_count": null,
   "metadata": {},
   "outputs": [],
   "source": [
    "# Test tensorflow-gpu installation\n",
    "import tensorflow as tf\n",
    "tf.test.is_gpu_available(\n",
    "    cuda_only=False,\n",
    "    min_cuda_compute_capability=None\n",
    ")"
   ]
  },
  {
   "cell_type": "markdown",
   "metadata": {},
   "source": [
    "## Imports"
   ]
  },
  {
   "cell_type": "code",
   "execution_count": null,
   "metadata": {},
   "outputs": [],
   "source": [
    "import scipy.io\n",
    "import numpy as np\n",
    "from skfeature.function.sparse_learning_based import NDFS, MCFS\n",
    "from skfeature.function.similarity_based import SPEC, lap_score\n",
    "from skfeature.utility import construct_W, unsupervised_evaluation\n",
    "from skfeature.utility.sparse_learning import feature_ranking\n",
    "from sklearn.metrics import accuracy_score\n",
    "from keras.layers import Input, Dense\n",
    "from keras.models import Model\n",
    "from keras import regularizers\n",
    "from keras.callbacks import TensorBoard\n",
    "import matplotlib.pyplot as plt"
   ]
  },
  {
   "cell_type": "code",
   "execution_count": null,
   "metadata": {},
   "outputs": [],
   "source": [
    "# To ignore warnings, especially DeprecationWarnings\n",
    "import warnings\n",
    "warnings.filterwarnings('ignore')"
   ]
  },
  {
   "cell_type": "markdown",
   "metadata": {},
   "source": [
    "## Load data sets"
   ]
  },
  {
   "cell_type": "code",
   "execution_count": null,
   "metadata": {},
   "outputs": [],
   "source": [
    "# Name of the data set\n",
    "NAME = \"COIL20\""
   ]
  },
  {
   "cell_type": "code",
   "execution_count": null,
   "metadata": {},
   "outputs": [],
   "source": [
    "mat = scipy.io.loadmat('scikit-feature/skfeature/data/' + NAME + '.mat')\n",
    "X = mat['X']\n",
    "X = X.astype(float)\n",
    "y = mat['Y']\n",
    "y = y[:, 0]"
   ]
  },
  {
   "cell_type": "code",
   "execution_count": null,
   "metadata": {},
   "outputs": [],
   "source": [
    "# Estimate intristic dimension (ID)\n",
    "data_ids = {\"arcene\":40, \"Isolet\":9, \"ORL\":6, \"pixraw10P\":4, \"ProstateGE\":23, \"TOX171\":15, \"warpPie10P\":3, \"Yale\":10}"
   ]
  },
  {
   "cell_type": "markdown",
   "metadata": {},
   "source": [
    "## Experiments"
   ]
  },
  {
   "cell_type": "markdown",
   "metadata": {},
   "source": [
    "### Laplacian"
   ]
  },
  {
   "cell_type": "code",
   "execution_count": null,
   "metadata": {},
   "outputs": [],
   "source": [
    "%%time\n",
    "# Construct affinity matrix\n",
    "kwargs_W = {\"metric\":\"euclidean\", \"neighbor_mode\":\"knn\", \"weight_mode\":\"heat_kernel\", \"k\":5, 't':1}\n",
    "W = construct_W.construct_W(X, **kwargs_W)\n",
    "\n",
    "# Obtain the scores of features\n",
    "score = lap_score.lap_score(X, W=W)\n",
    "\n",
    "# Sort the feature scores in an ascending order according to the feature scores\n",
    "idx = lap_score.feature_ranking(score)\n",
    "\n",
    "# Perform evaluation on clustering task\n",
    "num_fea = 100       # Number of selected features\n",
    "num_cluster = 20    # Number of clusters, it is usually set as the number of classes in the ground truth\n",
    "\n",
    "# Obtain the dataset on the selected features\n",
    "selected_features = X[:, idx[0:num_fea]]\n",
    "\n",
    "# Perform kmeans clustering based on the selected features and repeats 20 times\n",
    "nmi_total = 0\n",
    "acc_total = 0\n",
    "for i in range(20):\n",
    "    nmi, acc = unsupervised_evaluation.evaluation(X_selected=selected_features, n_clusters=num_cluster, y=y)\n",
    "    nmi_total += nmi\n",
    "    acc_total += acc\n",
    "\n",
    "# Output the average NMI and average ACC\n",
    "print('NMI:', float(nmi_total)/20)\n",
    "print('ACC:', float(acc_total)/20)"
   ]
  },
  {
   "cell_type": "markdown",
   "metadata": {},
   "source": [
    "### SPEC"
   ]
  },
  {
   "cell_type": "code",
   "execution_count": null,
   "metadata": {},
   "outputs": [],
   "source": [
    "%%time\n",
    "# Specify the second ranking function which uses all except the 1st eigenvalue\n",
    "kwargs = {'style': 0}\n",
    "\n",
    "# Obtain the scores of features\n",
    "score = SPEC.spec(X, **kwargs)\n",
    "\n",
    "# Sort the feature scores in an descending order according to the feature scores\n",
    "idx = SPEC.feature_ranking(score, **kwargs)\n",
    "\n",
    "# Perform evaluation on clustering task\n",
    "num_fea = 100       # Number of selected features\n",
    "num_cluster = 20    # Number of clusters, it is usually set as the number of classes in the ground truth\n",
    "\n",
    "# Obtain the dataset on the selected features\n",
    "selected_features = X[:, idx[0:num_fea]]\n",
    "\n",
    "# Perform kmeans clustering based on the selected features and repeats 20 times\n",
    "nmi_total = 0\n",
    "acc_total = 0\n",
    "for i in range(20):\n",
    "    nmi, acc = unsupervised_evaluation.evaluation(X_selected=selected_features, n_clusters=num_cluster, y=y)\n",
    "    nmi_total += nmi\n",
    "    acc_total += acc\n",
    "\n",
    "# Output the average NMI and average ACC\n",
    "print('NMI:', float(nmi_total)/20)\n",
    "print('ACC:', float(acc_total)/20)"
   ]
  },
  {
   "cell_type": "markdown",
   "metadata": {},
   "source": [
    "### MCFS"
   ]
  },
  {
   "cell_type": "code",
   "execution_count": null,
   "metadata": {},
   "outputs": [],
   "source": [
    "%%time\n",
    "# Construct affinity matrix\n",
    "kwargs = {\"metric\": \"euclidean\", \"neighborMode\": \"knn\", \"weightMode\": \"heatKernel\", \"k\": 5, 't': 1}\n",
    "W = construct_W.construct_W(X, **kwargs)\n",
    "\n",
    "num_fea = 100       # Number of selected features\n",
    "num_cluster = 20    # Number of clusters, it is usually set as the number of classes in the ground truth\n",
    "\n",
    "# Obtain the feature weight matrix\n",
    "Weight = MCFS.mcfs(X, n_selected_features=num_fea, W=W, n_clusters=20)\n",
    "\n",
    "# Sort the feature scores in an ascending order according to the feature scores\n",
    "idx = MCFS.feature_ranking(Weight)\n",
    "\n",
    "# Obtain the dataset on the selected features\n",
    "selected_features = X[:, idx[0:num_fea]]\n",
    "\n",
    "# Perform kmeans clustering based on the selected features and repeats 20 times\n",
    "nmi_total = 0\n",
    "acc_total = 0\n",
    "for i in range(20):\n",
    "    nmi, acc = unsupervised_evaluation.evaluation(X_selected=selected_features, n_clusters=num_cluster, y=y)\n",
    "    nmi_total += nmi\n",
    "    acc_total += acc\n",
    "\n",
    "# Output the average NMI and average ACC\n",
    "print('NMI:', float(nmi_total)/20)\n",
    "print('ACC:', float(acc_total)/20)"
   ]
  },
  {
   "cell_type": "markdown",
   "metadata": {},
   "source": [
    "### NDFS"
   ]
  },
  {
   "cell_type": "code",
   "execution_count": null,
   "metadata": {},
   "outputs": [],
   "source": [
    "%%time\n",
    "# Construct affinity matrix\n",
    "kwargs = {\"metric\": \"euclidean\", \"neighborMode\": \"knn\", \"weightMode\": \"heatKernel\", \"k\": 5, 't': 1}\n",
    "W = construct_W.construct_W(X, **kwargs)\n",
    "\n",
    "# Obtain the feature weight matrix\n",
    "Weight = NDFS.ndfs(X, W=W, n_clusters=20)\n",
    "\n",
    "# Sort the feature scores in an ascending order according to the feature scores\n",
    "idx = feature_ranking(Weight)\n",
    "\n",
    "# Perform evaluation on clustering task\n",
    "num_fea = 100       # Number of selected features\n",
    "num_cluster = 20    # Number of clusters, it is usually set as the number of classes in the ground truth\n",
    "\n",
    "# Obtain the dataset on the selected features\n",
    "selected_features = X[:, idx[0:num_fea]]\n",
    "\n",
    "# Perform kmeans clustering based on the selected features and repeats 20 times\n",
    "nmi_total = 0\n",
    "acc_total = 0\n",
    "for i in range(20):\n",
    "    nmi, acc = unsupervised_evaluation.evaluation(X_selected=selected_features, n_clusters=num_cluster, y=y)\n",
    "    nmi_total += nmi\n",
    "    acc_total += acc\n",
    "\n",
    "# Output the average NMI and average ACC\n",
    "print('NMI:', float(nmi_total)/20)\n",
    "print('ACC:', float(acc_total)/20)"
   ]
  },
  {
   "cell_type": "markdown",
   "metadata": {},
   "source": [
    "### AGNOS\n",
    "Below is the [example](https://blog.keras.io/building-autoencoders-in-keras.html) from keras."
   ]
  },
  {
   "cell_type": "code",
   "execution_count": null,
   "metadata": {},
   "outputs": [],
   "source": [
    "# this is the size of our encoded representations\n",
    "encoding_dim = 32  # 32 floats -> compression of factor 24.5, assuming the input is 784 floats\n",
    "\n",
    "# this is our input placeholder\n",
    "input_img = Input(shape=(784,))\n",
    "# \"encoded\" is the encoded representation of the input\n",
    "encoded = Dense(encoding_dim, activation='relu')(input_img)\n",
    "# \"decoded\" is the lossy reconstruction of the input\n",
    "decoded = Dense(784, activation='sigmoid')(encoded)\n",
    "\n",
    "# this model maps an input to its reconstruction\n",
    "autoencoder = Model(input_img, decoded)"
   ]
  },
  {
   "cell_type": "code",
   "execution_count": null,
   "metadata": {},
   "outputs": [],
   "source": [
    "# this model maps an input to its encoded representation\n",
    "encoder = Model(input_img, encoded)"
   ]
  },
  {
   "cell_type": "code",
   "execution_count": null,
   "metadata": {},
   "outputs": [],
   "source": [
    "# create a placeholder for an encoded (32-dimensional) input\n",
    "encoded_input = Input(shape=(encoding_dim,))\n",
    "# retrieve the last layer of the autoencoder model\n",
    "decoder_layer = autoencoder.layers[-1]\n",
    "# create the decoder model\n",
    "decoder = Model(encoded_input, decoder_layer(encoded_input))"
   ]
  },
  {
   "cell_type": "code",
   "execution_count": null,
   "metadata": {},
   "outputs": [],
   "source": [
    "autoencoder.compile(optimizer='adadelta', loss='binary_crossentropy')"
   ]
  },
  {
   "cell_type": "code",
   "execution_count": null,
   "metadata": {},
   "outputs": [],
   "source": [
    "from keras.datasets import mnist\n",
    "(x_train, _), (x_test, _) = mnist.load_data()"
   ]
  },
  {
   "cell_type": "code",
   "execution_count": null,
   "metadata": {},
   "outputs": [],
   "source": [
    "x_train = x_train.astype('float32') / 255.\n",
    "x_test = x_test.astype('float32') / 255.\n",
    "x_train = x_train.reshape((len(x_train), np.prod(x_train.shape[1:])))\n",
    "x_test = x_test.reshape((len(x_test), np.prod(x_test.shape[1:])))\n",
    "print(x_train.shape)\n",
    "print(x_test.shape)"
   ]
  },
  {
   "cell_type": "code",
   "execution_count": null,
   "metadata": {},
   "outputs": [],
   "source": [
    "autoencoder.fit(x_train, x_train,\n",
    "                epochs=50,\n",
    "                batch_size=256,\n",
    "                shuffle=True,\n",
    "                validation_data=(x_test, x_test))"
   ]
  },
  {
   "cell_type": "code",
   "execution_count": null,
   "metadata": {},
   "outputs": [],
   "source": [
    "# encode and decode some digits\n",
    "# note that we take them from the *test* set\n",
    "encoded_imgs = encoder.predict(x_test)\n",
    "decoded_imgs = decoder.predict(encoded_imgs)"
   ]
  },
  {
   "cell_type": "code",
   "execution_count": null,
   "metadata": {},
   "outputs": [],
   "source": [
    "# use Matplotlib (don't ask)\n",
    "import matplotlib.pyplot as plt\n",
    "\n",
    "n = 10  # how many digits we will display\n",
    "plt.figure(figsize=(20, 4))\n",
    "for i in range(n):\n",
    "    # display original\n",
    "    ax = plt.subplot(2, n, i + 1)\n",
    "    plt.imshow(x_test[i].reshape(28, 28))\n",
    "    plt.gray()\n",
    "    ax.get_xaxis().set_visible(False)\n",
    "    ax.get_yaxis().set_visible(False)\n",
    "\n",
    "    # display reconstruction\n",
    "    ax = plt.subplot(2, n, i + 1 + n)\n",
    "    plt.imshow(decoded_imgs[i].reshape(28, 28))\n",
    "    plt.gray()\n",
    "    ax.get_xaxis().set_visible(False)\n",
    "    ax.get_yaxis().set_visible(False)\n",
    "plt.show()"
   ]
  },
  {
   "cell_type": "code",
   "execution_count": null,
   "metadata": {},
   "outputs": [],
   "source": [
    "from keras import regularizers\n",
    "\n",
    "encoding_dim = 32\n",
    "\n",
    "input_img = Input(shape=(784,))\n",
    "# add a Dense layer with a L1 activity regularizer\n",
    "encoded = Dense(encoding_dim, activation='relu',\n",
    "                activity_regularizer=regularizers.l1(10e-5))(input_img)\n",
    "decoded = Dense(784, activation='sigmoid')(encoded)\n",
    "\n",
    "autoencoder = Model(input_img, decoded)\n",
    "autoencoder.compile(optimizer='adadelta', loss='binary_crossentropy')\n",
    "# RERUN THE 3 CELLS ABOVE"
   ]
  }
 ],
 "metadata": {
  "kernelspec": {
   "display_name": "Python 3",
   "language": "python",
   "name": "python3"
  },
  "language_info": {
   "codemirror_mode": {
    "name": "ipython",
    "version": 3
   },
   "file_extension": ".py",
   "mimetype": "text/x-python",
   "name": "python",
   "nbconvert_exporter": "python",
   "pygments_lexer": "ipython3",
   "version": "3.7.5"
  }
 },
 "nbformat": 4,
 "nbformat_minor": 2
}
